{
 "cells": [
  {
   "cell_type": "code",
   "execution_count": null,
   "metadata": {},
   "outputs": [],
   "source": [
    "peta = {'A': set(['B', 'H']),                   \n",
    "        'B': set(['A', 'C', 'H']),\n",
    "        'C': set(['B', 'D', 'E']),\n",
    "        'D': set(['C', 'E', 'F', 'G', 'H']),\n",
    "        'E': set(['C', 'D']),\n",
    "        'F': set(['D', 'G']),\n",
    "        'G': set(['D', 'F', 'H']),\n",
    "        'H': set(['A', 'B', 'D', 'G'])\n",
    "        }\n",
    "#a-h itu adalah not\n",
    "\n",
    "def bfs_lintasan_terpendek(peta, mulai, tujuan) :\n",
    "    explored = [] #variabel untuk menampung sebuah list untuk NGECEK SEMUA NOT\n",
    "    queue = [[mulai]] #variabel untuk NGECEK SEMUA JALUR\n",
    "\n",
    "    #kondisi / state\n",
    "    if mulai == tujuan : \n",
    "        return \"Awal adalah Tujuan\"\n",
    "    \n",
    "    #perulangan untuk meriksa semua jalur\n",
    "    while queue :\n",
    "        jalur = queue.pop(0)\n",
    "        node = jalur[-1]\n",
    "\n",
    "        if node not in explored :\n",
    "            neighbours = peta[node]\n",
    "\n",
    "            for neighbour in neighbours :\n",
    "                jalur_baru = list(jalur)\n",
    "                jalur_baru.append(neighbour)\n",
    "                queue.append(jalur_baru)\n",
    "\n",
    "                if neighbour == tujuan :\n",
    "                    return jalur_baru\n",
    "                \n",
    "            explored.append(node)\n",
    "\n",
    "    return \"Mohon maaf node yang kalian pilih tidak ada\"\n",
    "\n",
    "mulai = input(\"Masukkan awal : \")\n",
    "tujuan = input(\"Masukkan akhir : \")\n",
    "\n",
    "print(bfs_lintasan_terpendek(peta, mulai, tujuan))\n"
   ]
  }
 ],
 "metadata": {
  "language_info": {
   "name": "python"
  }
 },
 "nbformat": 4,
 "nbformat_minor": 2
}
